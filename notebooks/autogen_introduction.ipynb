{
 "cells": [
  {
   "cell_type": "markdown",
   "metadata": {},
   "source": [
    "## Building Multi Agent AI Applications with AutoGen \n",
    "\n",
    "<a target=\"_blank\" href=\"https://colab.research.google.com/github/designingwithml/blogposts/blob/main/notebooks/autogen_introduction.ipynb\">\n",
    "  <img src=\"https://colab.research.google.com/assets/colab-badge.svg\" alt=\"Open In Colab\"/>\n",
    "</a>\n",
    "\n",
    "\n",
    "Multi-agent AI apps (a setup where multiple agents powered by GenAI models collaborate autonomously) hold promise in addressing complex tasks. In this notebook, the goal is to delve deep into how we might implement such apps using AutoGen. "
   ]
  },
  {
   "cell_type": "code",
   "execution_count": 1,
   "metadata": {},
   "outputs": [],
   "source": [
    "## Install AutoGen\n",
    "# !pip install -qq pyautogen "
   ]
  },
  {
   "cell_type": "code",
   "execution_count": 2,
   "metadata": {},
   "outputs": [],
   "source": [
    "from autogen import AssistantAgent, UserProxyAgent\n",
    "import os"
   ]
  },
  {
   "cell_type": "markdown",
   "metadata": {},
   "source": [
    "## LLM Configuration Specification \n",
    "\n",
    "AutoGen agents take an `llm_config` argument that specifies the LLM configuration for an Agent. \n",
    "Importantly, AutoGen standardizes on the openai api format for specifying an LLM. This means the openai and azure openai api are supported out of the box. For Azure Open AI models, the `base_url` and `api_version`  and `api_type` fields are required.\n",
    "\n",
    "- model: The name of the model \n",
    "- api_key: The API key to use.\n",
    "- base_url: The base URL of the LLM api \n",
    "- api_version:  The version of the LLM api (Azure Open AI only)\n",
    "- api_type: The type of LLM api (Azure Open AI only)\n"
   ]
  },
  {
   "cell_type": "code",
   "execution_count": 3,
   "metadata": {},
   "outputs": [],
   "source": [
    "llm_config = {\"config_list\": [{\n",
    "        \"model\": \"gpt-4-turbo-preview\",\n",
    "        \"api_key\": os.environ[\"OPENAI_API_KEY\"],  # Note, add your own API key here\n",
    "    }],\n",
    "    \"temperature\": 0.9,\n",
    "}"
   ]
  },
  {
   "cell_type": "markdown",
   "metadata": {},
   "source": [
    "## Stock Price Chart \n",
    "\n",
    "The following code demonstrates setting up two agents in AutoGen that collobrate to addres the task: \n",
    "\"Plot a chart of NVDA and TESLA stock price change YTD. Save the result to a file named chart.png.\""
   ]
  },
  {
   "cell_type": "code",
   "execution_count": 6,
   "metadata": {},
   "outputs": [
    {
     "name": "stdout",
     "output_type": "stream",
     "text": [
      "user_proxy (to assistant):\n",
      "\n",
      "Plot a chart of NVDA and TESLA stock price change YTD. Save the result to a file named chart.png.\n",
      "\n",
      "--------------------------------------------------------------------------------\n"
     ]
    },
    {
     "name": "stdout",
     "output_type": "stream",
     "text": [
      "assistant (to user_proxy):\n",
      "\n",
      "To plot a chart of Nvidia (NVDA) and Tesla (TSLA) stock price changes YTD (Year-To-Date), we need to follow these steps:\n",
      "\n",
      "1. Get the stock price data for NVDA and TSLA for this year.\n",
      "2. Extract and calculate the price change YTD for both stocks.\n",
      "3. Plot the data using a Python library such as matplotlib.\n",
      "4. Save the plot to a file named `chart.png`.\n",
      "\n",
      "For step 1, we can use the `yfinance` library to fetch the stock data. If you don't have `yfinance` installed, you'll need to install it using pip (`pip install yfinance`). Then, we can proceed with fetching the data, processing it, and plotting it.\n",
      "\n",
      "I'll provide you with a complete Python code snippet which accomplishes all these steps. Execute the following code:\n",
      "\n",
      "```python\n",
      "# filename: plot_stock_chart.py\n",
      "import yfinance as yf\n",
      "import matplotlib.pyplot as plt\n",
      "from datetime import datetime\n",
      "\n",
      "# Get the current year\n",
      "current_year = datetime.now().year\n",
      "\n",
      "# Download stock data for NVDA and TSLA from the start of the current year to the current date\n",
      "nvda_data = yf.download('NVDA', start=f'{current_year}-01-01', end=datetime.now().strftime('%Y-%m-%d'))\n",
      "tsla_data = yf.download('TSLA', start=f'{current_year}-01-01', end=datetime.now().strftime('%Y-%m-%d'))\n",
      "\n",
      "# Calculate the percentage change of the Close price\n",
      "nvda_data['Pct Change'] = nvda_data['Close'].pct_change() * 100\n",
      "tsla_data['Pct Change'] = tsla_data['Close'].pct_change() * 100\n",
      "\n",
      "# Plotting\n",
      "plt.figure(figsize=(10, 6))\n",
      "plt.plot(nvda_data.index, nvda_data['Pct Change'].cumsum(), label='NVDA YTD Pct Change')\n",
      "plt.plot(tsla_data.index, tsla_data['Pct Change'].cumsum(), label='TSLA YTD Pct Change')\n",
      "plt.title('NVDA vs TSLA Stock Price Change YTD')\n",
      "plt.xlabel('Date')\n",
      "plt.ylabel('Cumulative Percentage Change')\n",
      "plt.legend()\n",
      "\n",
      "# Save the plot to a file\n",
      "plt.savefig('chart.png')\n",
      "```\n",
      "\n",
      "Please make sure you have the required libraries (`yfinance` and `matplotlib`) installed before running the script. You can install them using pip if you haven't already:\n",
      "\n",
      "```\n",
      "pip install yfinance matplotlib\n",
      "```\n",
      "\n",
      "After running the script, you'll find `chart.png` in the same directory as your script, containing the plot of YTD percentage changes in stock prices for Nvidia and Tesla.\n",
      "\n",
      "--------------------------------------------------------------------------------\n",
      "\n",
      ">>>>>>>> EXECUTING CODE BLOCK 0 (inferred language is python)...\n",
      "\n",
      ">>>>>>>> EXECUTING CODE BLOCK 1 (inferred language is sh)...\n",
      "user_proxy (to assistant):\n",
      "\n",
      "exitcode: 0 (execution succeeded)\n",
      "Code output: \n",
      "\n",
      "[*********************100%%**********************]  1 of 1 completed\n",
      "\n",
      "[*********************100%%**********************]  1 of 1 completed\n",
      "\n",
      "Requirement already satisfied: yfinance in /opt/homebrew/Caskroom/miniconda/base/lib/python3.9/site-packages (0.2.28)\n",
      "Requirement already satisfied: matplotlib in /opt/homebrew/Caskroom/miniconda/base/lib/python3.9/site-packages (3.8.0)\n",
      "Requirement already satisfied: appdirs>=1.4.4 in /opt/homebrew/Caskroom/miniconda/base/lib/python3.9/site-packages (from yfinance) (1.4.4)\n",
      "Requirement already satisfied: frozendict>=2.3.4 in /opt/homebrew/Caskroom/miniconda/base/lib/python3.9/site-packages (from yfinance) (2.3.8)\n",
      "Requirement already satisfied: multitasking>=0.0.7 in /opt/homebrew/Caskroom/miniconda/base/lib/python3.9/site-packages (from yfinance) (0.0.11)\n",
      "Requirement already satisfied: requests>=2.31 in /opt/homebrew/Caskroom/miniconda/base/lib/python3.9/site-packages (from yfinance) (2.31.0)\n",
      "Requirement already satisfied: pytz>=2022.5 in /opt/homebrew/Caskroom/miniconda/base/lib/python3.9/site-packages (from yfinance) (2023.3.post1)\n",
      "Requirement already satisfied: pandas>=1.3.0 in /opt/homebrew/Caskroom/miniconda/base/lib/python3.9/site-packages (from yfinance) (2.1.1)\n",
      "Requirement already satisfied: lxml>=4.9.1 in /opt/homebrew/Caskroom/miniconda/base/lib/python3.9/site-packages (from yfinance) (4.9.3)\n",
      "Requirement already satisfied: beautifulsoup4>=4.11.1 in /opt/homebrew/Caskroom/miniconda/base/lib/python3.9/site-packages (from yfinance) (4.11.1)\n",
      "Requirement already satisfied: html5lib>=1.1 in /opt/homebrew/Caskroom/miniconda/base/lib/python3.9/site-packages (from yfinance) (1.1)\n",
      "Requirement already satisfied: numpy>=1.16.5 in /opt/homebrew/Caskroom/miniconda/base/lib/python3.9/site-packages (from yfinance) (1.24.4)\n",
      "Requirement already satisfied: contourpy>=1.0.1 in /opt/homebrew/Caskroom/miniconda/base/lib/python3.9/site-packages (from matplotlib) (1.1.1)\n",
      "Requirement already satisfied: fonttools>=4.22.0 in /opt/homebrew/Caskroom/miniconda/base/lib/python3.9/site-packages (from matplotlib) (4.33.3)\n",
      "Requirement already satisfied: pillow>=6.2.0 in /opt/homebrew/Caskroom/miniconda/base/lib/python3.9/site-packages (from matplotlib) (9.1.1)\n",
      "Requirement already satisfied: pyparsing>=2.3.1 in /opt/homebrew/Caskroom/miniconda/base/lib/python3.9/site-packages (from matplotlib) (3.0.9)\n",
      "Requirement already satisfied: cycler>=0.10 in /opt/homebrew/Caskroom/miniconda/base/lib/python3.9/site-packages (from matplotlib) (0.11.0)\n",
      "Requirement already satisfied: python-dateutil>=2.7 in /opt/homebrew/Caskroom/miniconda/base/lib/python3.9/site-packages (from matplotlib) (2.8.2)\n",
      "Requirement already satisfied: importlib-resources>=3.2.0 in /opt/homebrew/Caskroom/miniconda/base/lib/python3.9/site-packages (from matplotlib) (6.1.0)\n",
      "Requirement already satisfied: kiwisolver>=1.0.1 in /opt/homebrew/Caskroom/miniconda/base/lib/python3.9/site-packages (from matplotlib) (1.4.2)\n",
      "Requirement already satisfied: packaging>=20.0 in /opt/homebrew/Caskroom/miniconda/base/lib/python3.9/site-packages (from matplotlib) (21.3)\n",
      "Requirement already satisfied: soupsieve>1.2 in /opt/homebrew/Caskroom/miniconda/base/lib/python3.9/site-packages (from beautifulsoup4>=4.11.1->yfinance) (2.3.2.post1)\n",
      "Requirement already satisfied: six>=1.9 in /opt/homebrew/Caskroom/miniconda/base/lib/python3.9/site-packages (from html5lib>=1.1->yfinance) (1.16.0)\n",
      "Requirement already satisfied: webencodings in /opt/homebrew/Caskroom/miniconda/base/lib/python3.9/site-packages (from html5lib>=1.1->yfinance) (0.5.1)\n",
      "Requirement already satisfied: zipp>=3.1.0 in /opt/homebrew/Caskroom/miniconda/base/lib/python3.9/site-packages (from importlib-resources>=3.2.0->matplotlib) (3.8.0)\n",
      "Requirement already satisfied: tzdata>=2022.1 in /opt/homebrew/Caskroom/miniconda/base/lib/python3.9/site-packages (from pandas>=1.3.0->yfinance) (2023.3)\n",
      "Requirement already satisfied: urllib3<3,>=1.21.1 in /opt/homebrew/Caskroom/miniconda/base/lib/python3.9/site-packages (from requests>=2.31->yfinance) (1.26.9)\n",
      "Requirement already satisfied: charset-normalizer<4,>=2 in /opt/homebrew/Caskroom/miniconda/base/lib/python3.9/site-packages (from requests>=2.31->yfinance) (2.0.4)\n",
      "Requirement already satisfied: idna<4,>=2.5 in /opt/homebrew/Caskroom/miniconda/base/lib/python3.9/site-packages (from requests>=2.31->yfinance) (3.3)\n",
      "Requirement already satisfied: certifi>=2017.4.17 in /opt/homebrew/Caskroom/miniconda/base/lib/python3.9/site-packages (from requests>=2.31->yfinance) (2022.5.18.1)\n",
      "\n",
      "\n",
      "--------------------------------------------------------------------------------\n",
      "assistant (to user_proxy):\n",
      "\n",
      "The code was executed successfully, and the required libraries (`yfinance` and `matplotlib`) are already installed on your system. The script downloaded the YTD stock price data for NVDA (Nvidia) and TSLA (Tesla), calculated the percentage change, plotted the cumulative percentage change over the current year, and saved the chart to a file named `chart.png`.\n",
      "\n",
      "You should now have a file named `chart.png` in your script's directory, which contains the plot of the YTD percentage changes in stock prices for Nvidia and Tesla.\n",
      "\n",
      "If you have any more requests or need further assistance, feel free to ask. Otherwise, that concludes this task.\n",
      "\n",
      "TERMINATE\n",
      "\n",
      "--------------------------------------------------------------------------------\n"
     ]
    }
   ],
   "source": [
    "assistant = AssistantAgent(\n",
    "    name= \"assistant\", llm_config=llm_config)\n",
    "user_proxy = UserProxyAgent(\n",
    "    name = \"user_proxy\", \n",
    "    code_execution_config={\"work_dir\": \n",
    "                           \"data/scratch\", \n",
    "                           \"use_docker\": False},\n",
    "    human_input_mode=\"NEVER\",\n",
    "    is_termination_msg=lambda x: x.get(\"content\", \"\").rstrip().endswith(\"TERMINATE\")\n",
    "    )  \n",
    "\n",
    "user_proxy.initiate_chat(assistant, message=\"Plot a chart of NVDA and TESLA stock price change YTD. Save the result to a file named chart.png.\") "
   ]
  }
 ],
 "metadata": {
  "kernelspec": {
   "display_name": "base",
   "language": "python",
   "name": "python3"
  },
  "language_info": {
   "codemirror_mode": {
    "name": "ipython",
    "version": 3
   },
   "file_extension": ".py",
   "mimetype": "text/x-python",
   "name": "python",
   "nbconvert_exporter": "python",
   "pygments_lexer": "ipython3",
   "version": "3.9.12"
  }
 },
 "nbformat": 4,
 "nbformat_minor": 2
}
