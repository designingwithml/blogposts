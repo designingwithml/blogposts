{
 "cells": [
  {
   "cell_type": "code",
   "execution_count": 1,
   "metadata": {},
   "outputs": [],
   "source": [
    "# !pip install -q git+https://github.com/huggingface/transformers.git pytube ffmpeg-python tqdm"
   ]
  },
  {
   "cell_type": "markdown",
   "metadata": {},
   "source": [
    "## Realt-Time Detectron \n",
    "\n",
    "Sample (unoptimized) code for running the RT-DETR model on a video stream from Youtube."
   ]
  },
  {
   "cell_type": "code",
   "execution_count": 2,
   "metadata": {},
   "outputs": [
    {
     "name": "stderr",
     "output_type": "stream",
     "text": [
      "/home/victordibia/miniconda3/envs/autog/lib/python3.10/site-packages/transformers/utils/hub.py:127: FutureWarning: Using `TRANSFORMERS_CACHE` is deprecated and will be removed in v5 of Transformers. Use `HF_HOME` instead.\n",
      "  warnings.warn(\n",
      "2024-07-05 14:21:08.666308: E external/local_xla/xla/stream_executor/cuda/cuda_dnn.cc:9261] Unable to register cuDNN factory: Attempting to register factory for plugin cuDNN when one has already been registered\n",
      "2024-07-05 14:21:08.666363: E external/local_xla/xla/stream_executor/cuda/cuda_fft.cc:607] Unable to register cuFFT factory: Attempting to register factory for plugin cuFFT when one has already been registered\n",
      "2024-07-05 14:21:08.667121: E external/local_xla/xla/stream_executor/cuda/cuda_blas.cc:1515] Unable to register cuBLAS factory: Attempting to register factory for plugin cuBLAS when one has already been registered\n",
      "2024-07-05 14:21:08.672995: I tensorflow/core/platform/cpu_feature_guard.cc:182] This TensorFlow binary is optimized to use available CPU instructions in performance-critical operations.\n",
      "To enable the following instructions: AVX2 FMA, in other operations, rebuild TensorFlow with the appropriate compiler flags.\n",
      "2024-07-05 14:21:09.454217: W tensorflow/compiler/tf2tensorrt/utils/py_utils.cc:38] TF-TRT Warning: Could not find TensorRT\n"
     ]
    }
   ],
   "source": [
    "import torch\n",
    "import requests\n",
    "from PIL import Image\n",
    "import matplotlib.pyplot as plt\n",
    "from transformers import RTDetrForObjectDetection, RTDetrImageProcessor\n",
    "\n",
    "\n",
    "image_processor = RTDetrImageProcessor.from_pretrained(\"PekingU/rtdetr_r50vd_coco_o365\")\n",
    "model = RTDetrForObjectDetection.from_pretrained(\"PekingU/rtdetr_r50vd_coco_o365\")"
   ]
  },
  {
   "cell_type": "code",
   "execution_count": 3,
   "metadata": {},
   "outputs": [],
   "source": [
    "from pytube import YouTube \n",
    "from tqdm import tqdm\n",
    "import os \n",
    "\n",
    "os.makedirs('temp', exist_ok=True)\n",
    "# yt = YouTube('https://www.youtube.com/watch?v=b7WD-SpNX_I')\n",
    "# video_path = yt.streams.filter(progressive=True, file_extension='mp4').order_by('resolution').desc().first().download(output_path='temp')"
   ]
  },
  {
   "cell_type": "code",
   "execution_count": 4,
   "metadata": {},
   "outputs": [],
   "source": [
    "import ffmpeg\n",
    "from PIL import Image \n",
    "import os\n",
    "import tempfile\n",
    "import time \n",
    "\n",
    "os.makedirs('temp/videos', exist_ok=True)\n",
    "from multiprocessing import Pool, cpu_count\n",
    "\n",
    "def extract_frame(args):\n",
    "    video_path, frame_number, output_path = args\n",
    "    (ffmpeg.input(video_path)\n",
    "           .filter('select', f'gte(n,{frame_number})')\n",
    "           .output(output_path, vframes=1)\n",
    "           .global_args('-loglevel', 'error')\n",
    "           .run(overwrite_output=True))\n",
    "    return Image.open(output_path).copy()\n",
    "\n",
    "def extract_frames(video_path, frame_rate=1):\n",
    "    start_time = time.time()\n",
    "    probe = ffmpeg.probe(video_path)\n",
    "    video_info = next(s for s in probe['streams'] if s['codec_type'] == 'video')\n",
    "    duration = float(video_info['duration'])\n",
    "    total_frames = int(video_info['nb_frames'])\n",
    "    original_fps = total_frames / duration\n",
    "    frame_rate = min(frame_rate, original_fps)\n",
    "\n",
    "    frame_interval = int(original_fps / frame_rate)\n",
    "    n_frames = int(duration * frame_rate)\n",
    "    print(\"N Frames: \", n_frames, \" Frame Interval: \", frame_interval, \"Duration: \", duration, \" Original FPS: \", original_fps, \" Frame Rate: \", frame_rate)\n",
    "\n",
    "    with tempfile.TemporaryDirectory() as temp_dir:\n",
    "        frame_args = [\n",
    "            (video_path, i * frame_interval, os.path.join(temp_dir, f'frame_{i:04d}.png'))\n",
    "            for i in range(n_frames)\n",
    "        ]\n",
    "\n",
    "        # Use multiprocessing to extract frames in parallel\n",
    "        with Pool(processes=cpu_count()) as pool:\n",
    "            frames = pool.map(extract_frame, frame_args)\n",
    "    print(f\"Elapsed Time: {time.time() - start_time}\")\n",
    "    return frames\n",
    "\n",
    "COLORS = [[0.000, 0.447, 0.741], [0.850, 0.325, 0.098], [0.929, 0.694, 0.125],\n",
    "          [0.494, 0.184, 0.556], [0.466, 0.674, 0.188], [0.301, 0.745, 0.933]]\n",
    " \n",
    "def plot_results(pil_img, scores, labels, boxes, output_path, fps, score_threshold=0.6):\n",
    "    img_aspect_ratio = (pil_img.width / pil_img.height)\n",
    "    plt.figure(figsize=(16, int(16 // img_aspect_ratio)))\n",
    "    plt.imshow(pil_img)\n",
    "    ax = plt.gca()\n",
    "    colors = COLORS * 100\n",
    "    for score, label, (xmin, ymin, xmax, ymax),c  in zip(scores.tolist(), labels.tolist(), boxes.tolist(), colors):\n",
    "        if score > score_threshold:\n",
    "            ax.add_patch(plt.Rectangle((xmin, ymin), xmax - xmin, ymax - ymin,\n",
    "                                        fill=False, color=c, linewidth=3))\n",
    "                \n",
    "            text = f'{model.config.id2label[label]}: {score:0.2f}'\n",
    "            \n",
    "            # Change text position and alignment\n",
    "            ax.text(xmax, ymin, text, fontsize=15,\n",
    "                    bbox=dict(facecolor='yellow', alpha=0.5),\n",
    "                    horizontalalignment='right', verticalalignment='top')\n",
    "    # plot fps in a box lower left  \n",
    "    ax.text(0.01, 0.97, f'FPS: {fps:0.2f}', color='red', fontsize=15, transform=ax.transAxes, ha='left')\n",
    "\n",
    "    plt.axis('off')\n",
    "    plt.tight_layout()\n",
    "    plt.savefig(output_path,   pad_inches=0, dpi=100) \n",
    "    plt.close()\n",
    "\n",
    "def process_image_frame(image, output_dir='temp/frames', index=0,scrore_threshold=0.5):\n",
    "    start_time = time.time()\n",
    "    inputs = image_processor(images=image, return_tensors=\"pt\")\n",
    "    with torch.no_grad():\n",
    "        outputs = model(**inputs)\n",
    "    results = image_processor.post_process_object_detection(outputs, target_sizes=torch.tensor([image.size[::-1]]), threshold=scrore_threshold)\n",
    "    elapsed_time = time.time() - start_time\n",
    "    # print(f\"Elapsed Time: {elapsed_time}\")\n",
    "    fps = int(1/elapsed_time)\n",
    "\n",
    "    output_path = os.path.join(output_dir, f'frame_{index:04d}.png')\n",
    "    for result in results:\n",
    "        plot_results(image, result[\"scores\"], result[\"labels\"], result[\"boxes\"], output_path, fps)\n",
    "    \n",
    "\n",
    "\n",
    "# url = 'https://i.pinimg.com/originals/39/6f/b9/396fb90286728d6573405c60941043e1.jpg'\n",
    "# image = Image.open(requests.get(url, stream=True).raw)\n",
    "# process_image_frame(image)"
   ]
  },
  {
   "cell_type": "code",
   "execution_count": 5,
   "metadata": {},
   "outputs": [],
   "source": [
    "import glob \n",
    "\n",
    "def images_to_video(directory, output_file='output.mp4', loglevel='error', fps=1):\n",
    "    if not os.path.isdir(directory):\n",
    "        raise ValueError(f\"The provided directory '{directory}' does not exist.\")\n",
    "\n",
    "    png_files = sorted(glob.glob(os.path.join(directory, '*.png')))\n",
    "    if not png_files:\n",
    "        raise ValueError(f\"No .png files found in the directory '{directory}'.\")\n",
    "\n",
    "    input_stream = ffmpeg.input('pipe:', format='image2pipe', vcodec='png', r=fps)\n",
    "    output = ffmpeg.output(input_stream, output_file, vcodec='libx264', pix_fmt='yuv420p').global_args('-loglevel', loglevel, '-y')\n",
    "    process = output.run_async(pipe_stdin=True)\n",
    "\n",
    "    for file in png_files:\n",
    "        with open(file, 'rb') as f:\n",
    "            process.stdin.write(f.read())\n",
    "\n",
    "    process.stdin.close()\n",
    "    process.wait()\n",
    "    print(f\"Video file created: {output_file}\")"
   ]
  },
  {
   "cell_type": "code",
   "execution_count": 6,
   "metadata": {},
   "outputs": [],
   "source": [
    "from tqdm import tqdm\n",
    "import shutil\n",
    "def process_youtube_video(url, output_video_path='output.mp4', sample_rate=10, score_threshold=0.5):\n",
    "    yt = YouTube(url)\n",
    "    video_path = yt.streams.filter(progressive=True, file_extension='mp4').order_by('resolution').desc().first().download(output_path='temp/videos')\n",
    "    frames = extract_frames(video_path, sample_rate)\n",
    "\n",
    "    output_dir = 'temp/videos/output'\n",
    "    try:\n",
    "        shutil.rmtree(output_dir) \n",
    "    except Exception as e:\n",
    "        print(f\"Error: {str(e)}\")\n",
    "    os.makedirs(output_dir, exist_ok=True) \n",
    "    \n",
    "    n_sub_frames = int(len(frames) / 2)\n",
    "    frames = frames[:n_sub_frames]\n",
    "    print(\"Processing and annotating frames...\")\n",
    "    for i in tqdm(range(len(frames))):\n",
    "        process_image_frame(frames[i], output_dir=output_dir, index=i,scrore_threshold=score_threshold)\n",
    "    images_to_video(output_dir, output_file=output_video_path, fps=sample_rate)\n"
   ]
  },
  {
   "cell_type": "code",
   "execution_count": 7,
   "metadata": {},
   "outputs": [],
   "source": [
    "# output_dir = 'temp/videos/output'\n",
    "# video_url = 'https://www.youtube.com/watch?v=b7WD-SpNX_I'\n",
    "# output_video_path = 'temp/dogs.mp4' \n",
    "# process_youtube_video(video_url, output_video_path, sample_rate=20, score_threshold=0.5)"
   ]
  },
  {
   "cell_type": "code",
   "execution_count": 8,
   "metadata": {},
   "outputs": [
    {
     "name": "stdout",
     "output_type": "stream",
     "text": [
      "N Frames:  9666  Frame Interval:  1 Duration:  483.333333  Original FPS:  30.000000020689658  Frame Rate:  20\n",
      "Elapsed Time: 1502.5599193572998\n",
      "Processing and annotating frames...\n"
     ]
    },
    {
     "name": "stderr",
     "output_type": "stream",
     "text": [
      "100%|██████████| 4833/4833 [1:14:42<00:00,  1.08it/s]\n"
     ]
    },
    {
     "name": "stdout",
     "output_type": "stream",
     "text": [
      "Video file created: temp/footbal.mp4\n"
     ]
    }
   ],
   "source": [
    "output_dir = 'temp/videos/football'\n",
    "video_url = 'https://www.youtube.com/watch?v=3AtV36o0bOE'\n",
    "output_video_path = 'temp/footbal.mp4' \n",
    "process_youtube_video(video_url, output_video_path, sample_rate=20, score_threshold=0.5)"
   ]
  },
  {
   "cell_type": "markdown",
   "metadata": {},
   "source": [
    "## Extra Credit\n",
    "\n",
    "The code above could be significantly optimized in a few ways:\n",
    "\n",
    "- Batch predictions. Currently only a single frame is processed at a time, but the model can handle prediction in batches depending on your GPU memory, for potential speed ups.\n",
    "- Parrallel prediction: Frames can be split into batches with independent model instances running on different GPUs, for further speed ups."
   ]
  },
  {
   "cell_type": "code",
   "execution_count": null,
   "metadata": {},
   "outputs": [],
   "source": []
  }
 ],
 "metadata": {
  "kernelspec": {
   "display_name": "base",
   "language": "python",
   "name": "python3"
  },
  "language_info": {
   "codemirror_mode": {
    "name": "ipython",
    "version": 3
   },
   "file_extension": ".py",
   "mimetype": "text/x-python",
   "name": "python",
   "nbconvert_exporter": "python",
   "pygments_lexer": "ipython3",
   "version": "3.10.13"
  }
 },
 "nbformat": 4,
 "nbformat_minor": 2
}
